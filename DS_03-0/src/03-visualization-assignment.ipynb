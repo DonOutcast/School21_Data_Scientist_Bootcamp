{
 "cells": [
  {
   "cell_type": "markdown",
   "metadata": {
    "jupyter": {
     "outputs_hidden": true
    }
   },
   "source": [
    "# Задание"
   ]
  },
  {
   "cell_type": "code",
   "execution_count": 1,
   "metadata": {},
   "outputs": [],
   "source": [
    "import pandas as pd\n",
    "import matplotlib.pyplot as plt\n",
    "import seaborn as sns\n",
    "import plotly.figure_factory as ff\n",
    "import plotly.express as px\n",
    "import bar_chart_race as bcr"
   ]
  },
  {
   "cell_type": "code",
   "execution_count": 2,
   "metadata": {},
   "outputs": [],
   "source": [
    "data = pd.read_csv('../datasets/kaggle_survey_2022_responses.csv', low_memory=False)\n",
    "name2question = data.iloc[0] "
   ]
  },
  {
   "cell_type": "markdown",
   "metadata": {},
   "source": [
    "## Задание 1"
   ]
  },
  {
   "cell_type": "markdown",
   "metadata": {},
   "source": [
    "Используя библиотеку matplotlib, построй круговую диаграмму (Pie plot) для возраста респондента."
   ]
  },
  {
   "cell_type": "code",
   "execution_count": 2,
   "metadata": {},
   "outputs": [],
   "source": [
    "# Код тут# Код тутimport pandas as pd\n",
    "import matplotlib.pyplot as plt\n",
    "\n",
    "data = pd.read_csv('../datasets/kaggle_survey_2022_responses.csv', low_memory=False)\n",
    "name2question = data.iloc[0]\n",
    "x = data.iloc[1:].groupby(['Q2']).size().sort_values(ascending=False)\n",
    "plt.figure(figsize=(7,7))\n",
    "plt.pie(x, autopct='%0.1f%%', explode=(0.1, 0, 0, 0, 0, 0, 0, 0, 0, 0, 0), radius=1.2)\n",
    "plt.legend(x.index, loc=\"lower left\", fontsize=10, bbox_to_anchor=(-0.2, 0))\n",
    "plt.title(\"Возраст респондента\")\n",
    "plt.show()"
   ]
  },
  {
   "cell_type": "markdown",
   "metadata": {},
   "source": [
    "## Задание 2"
   ]
  },
  {
   "cell_type": "markdown",
   "metadata": {},
   "source": [
    "Используя библиотеку seaborn, построй столбцовую диаграмму (Bar plot) по популярности библиотек для визуализации."
   ]
  },
  {
   "cell_type": "code",
   "execution_count": 1,
   "metadata": {},
   "outputs": [],
   "source": [
    "# Код тутtemp = data\n",
    "\n",
    "data_ = temp.drop([\"Q15_14\"], axis=1)\n",
    "\n",
    "sns.set_style('white', {'xtick.bottom': True, 'ytick.left': True, 'figure.figsize': (13, 8)})\n",
    "y = data_[[column for column in data_.columns if column.startswith(\"Q15\")]].iloc[1:].melt().groupby([\"value\"]).size(). \\\n",
    "    sort_values(ascending=False).values\n",
    "x = data_[[column for column in data_.columns if column.startswith(\"Q15\")]].iloc[1:].melt().groupby([\"value\"]).size(). \\\n",
    "    sort_values(ascending=False).index\n",
    "ax = sns.barplot(x=y, y=x).set(title='Популярность библиотек для визуализации', xlabel=\"Количество\", ylabel=\"\")\n",
    "sns.set_context(\"paper\", rc={\"font.size\": 10, \"axes.titlesize\": 8, \"axes.labelsize\": 8, \"lines.linewidth\": 1.5}, \\\n",
    "                font_scale=0.75)\n",
    "plt.xticks(rotation=30)\n",
    "plt.show()"
   ]
  },
  {
   "cell_type": "markdown",
   "metadata": {},
   "source": [
    "## Задание 3"
   ]
  },
  {
   "cell_type": "markdown",
   "metadata": {},
   "source": [
    "Используя библиотеку seaborn, построй диаграмму \"Ящик с усами\" (Box plot) заработка по различным специальностям."
   ]
  },
  {
   "cell_type": "code",
   "execution_count": 3,
   "metadata": {},
   "outputs": [],
   "source": [
    "data = data[(data[\"Q23\"] != \"Currently not employed\")]\n",
    "sns.set_style('white', {'xtick.bottom': True, 'ytick.left': True, 'figure.figsize':(20,15)})\n",
    "job_ = data[\"Q23\"].iloc[1:]\n",
    "data_ = data[\"Q29\"].dropna().iloc[1:].replace([\"$0-999\"], \"0-999\").replace([\"$500,000-999,999\"], \"500,000-999,999\"). \\\n",
    "            replace([\">$1,000,000\"], \"1,000000-1,000000\")\n",
    "dic = {}\n",
    "for i in range(0, len(data_)):\n",
    "    revenue_ = data_.iloc[i].replace(\",\", \"\").split(\"-\")\n",
    "    dic[data_.iloc[i]] = ((float(revenue_[0])+float(revenue_[1]))/2)\n",
    "dt_ = data_.map(dic)\n",
    "ax = sns.boxplot(x=dt_, y=job_, data=data). \\\n",
    "set(xlabel='Годовой доход в $', ylabel='', title='Годовой доход по специальностям', xlim = (0,300000))\n",
    "sns.set_context(\"paper\", rc={\"font.size\":10,\"axes.titlesize\":10,\"axes.labelsize\":10, \"lines.linewidth\": 1}, \\\n",
    "                font_scale=0.75)\n",
    "plt.yticks(rotation=15)\n",
    "plt.show()"
   ]
  },
  {
   "cell_type": "markdown",
   "metadata": {},
   "source": [
    "## Задание 4\n",
    "Используя библиотеку plotly, построй столбцовую диаграмму (Bar plot) на распределение респондентов по возрасту по\n",
    "специальностям Data Administrator, Data Analyst, Data Engineer, Data Scientist, Engineer, MLops Engineer, \n",
    "Research Scientist, Software Engineer, Data Architect"
   ]
  },
  {
   "cell_type": "code",
   "execution_count": 4,
   "metadata": {},
   "outputs": [],
   "source": [
    "import plotly.graph_objects as go # we can not use express plots\n",
    "from plotly.subplots import make_subplots # creating subplots\n",
    "\n",
    "data_adm = data[[\"Q2\"]].dropna()[(data[\"Q23\"] == \"Data Administrator\")].value_counts().sort_values(ascending=False)\n",
    "data_ana = data[[\"Q2\"]].dropna()[(data[\"Q23\"] == \"Data Analyst (Business, Marketing, Financial, Quantitative, etc)\")].value_counts().sort_values(ascending=False)\n",
    "data_eng = data[[\"Q2\"]].dropna()[(data[\"Q23\"] == \"Data Engineer\")].value_counts().sort_values(ascending=False)\n",
    "data_sci = data[[\"Q2\"]].dropna()[(data[\"Q23\"] == \"Data Scientist\")].value_counts().sort_values(ascending=False)\n",
    "engin = data[[\"Q2\"]].dropna()[(data[\"Q23\"] == \"Engineer (non-software)\")].value_counts().sort_values(ascending=False)\n",
    "ml_eng = data[[\"Q2\"]].dropna()[(data[\"Q23\"] == \"Machine Learning/ MLops Engineer\")].value_counts().sort_values(ascending=False)\n",
    "res_sci = data[[\"Q2\"]].dropna()[(data[\"Q23\"] == \"Research Scientist\")].value_counts().sort_values(ascending=False)\n",
    "soft_eng = data[[\"Q2\"]].dropna()[(data[\"Q23\"] == \"Software Engineer\")].value_counts().sort_values(ascending=False)\n",
    "data_arc = data[[\"Q2\"]].dropna()[(data[\"Q23\"] == \"Data Architect\")].value_counts().sort_values(ascending=False)\n",
    "\n",
    "\n",
    "d = {\"Data Administrator\": data_adm, \"Data Analyst\": data_ana, \"Data Engineer\" : data_eng, \\\n",
    "     \"Data Scientist\": data_sci,\"Engineer (non-software\": engin, \"Machine Learning/ MLops Engineer\": ml_eng, \\\n",
    "     \"Research Scientist\":res_sci, \"Software Engineer\": soft_eng, \"Data Architect\": data_arc}\n",
    "df = pd.DataFrame(data=d)\n",
    "fig = make_subplots(rows=3, cols=3, subplot_titles=[\"<span style='font-style:italic;font-weight:bold;'>Data Administrator</span>\", \\\n",
    "                                                    \"<span style='font-style:italic;font-weight:bold;'>Data Analyst</span>\", \\\n",
    "                                                    \"<span style='font-style:italic;font-weight:bold;'>Data Engineer</span>\", \\\n",
    "                                                    \"<span style='font-style:italic;font-weight:bold;'>Data Scientist</span>\", \\\n",
    "                                                    \"<span style='font-style:italic;font-weight:bold;'>Engineer</span>\", \\\n",
    "                                                    \"<span style='font-style:italic;font-weight:bold;'>MLops Engineer</span>\", \\\n",
    "                                                    \"<span style='font-style:italic;font-weight:bold;'>Research Scientist</span>\", \\\n",
    "                                                    \"<span style='font-style:italic;font-weight:bold;'>Software Engineer</span>\", \\\n",
    "                                                    \"<span style='font-style:italic;font-weight:bold;'>Data Architect</span>\"])\n",
    "fig.add_trace(go.Bar(x=df.index.get_level_values(0), y=df[\"Data Administrator\"], name=\"Data Administrator\"),row=1, col=1)\n",
    "fig.add_trace(go.Bar(x=df.index.get_level_values(0), y=df[\"Data Analyst\"], name=\"Data Analyst\"),row=1, col=2)\n",
    "fig.add_trace(go.Bar(x=df.index.get_level_values(0), y=df[\"Data Engineer\"], name=\"Data Engineer\"),row=1, col=3)\n",
    "fig.add_trace(go.Bar(x=df.index.get_level_values(0), y=df[\"Data Scientist\"], name=\"Data Scientist\"),row=2, col=1)\n",
    "fig.add_trace(go.Bar(x=df.index.get_level_values(0), y=df[\"Engineer (non-software\"], name=\"Engineer\"),row=2, col=2)\n",
    "fig.add_trace(go.Bar(x=df.index.get_level_values(0), y=df[\"Machine Learning/ MLops Engineer\"], name=\"Machine Learning/ MLops Engineer\"),row=2, col=3)\n",
    "fig.add_trace(go.Bar(x=df.index.get_level_values(0), y=df[\"Research Scientist\"], name=\"Research Scientist\"),row=3, col=1)\n",
    "fig.add_trace(go.Bar(x=df.index.get_level_values(0), y=df[\"Software Engineer\"], name=\"Software Engineer\"),row=3, col=2)\n",
    "fig.add_trace(go.Bar(x=df.index.get_level_values(0), y=df[\"Data Architect\"], name=\"Data Architect\"),row=3, col=3)\n",
    "fig.update_layout(height=600, width=1000, title_text=\"Распределение возрастов по специальностям\")\n",
    "fig.show()"
   ]
  },
  {
   "cell_type": "markdown",
   "metadata": {},
   "source": [
    "## Задание 5"
   ]
  },
  {
   "cell_type": "markdown",
   "metadata": {},
   "source": [
    "Используя библиотеку plotly, построй карту стран респондентов. В этом тебе поможет [plotly.choropleth](https://plotly.com/python/choropleth-maps/)"
   ]
  },
  {
   "cell_type": "code",
   "execution_count": 6,
   "metadata": {},
   "outputs": [],
   "source": [
    "countries = pd.DataFrame(data['Q4'].value_counts()).drop(['Other', 'I do not wish to disclose my location'], axis=0)\n",
    "countries = countries.reset_index()\n",
    "countries = countries.rename(columns={'index': 'Countries', 'Q4': 'Количество респондентов'})\n",
    "fig = px.choropleth(countries, locations='Countries', color='Количество респондентов', locationmode='country names', scope='world',\n",
    "                   range_color=(0, 1000), color_continuous_scale=['black', '#913175', '#D61355', '#FDA769', '#FFE7CC'])\n",
    "fig.update_layout(height=600, width=800, title_text='Карта Мира', title_x=0.5, coloraxis_colorbar=dict(ticks='outside'))\n",
    "fig.show()"
   ]
  },
  {
   "cell_type": "markdown",
   "metadata": {},
   "source": [
    "## Задание 6 - Дополнительное"
   ]
  },
  {
   "cell_type": "markdown",
   "metadata": {},
   "source": [
    "Одна из самых красивых и динамичных визуализаций - это [Bar Chart Race](https://pypi.org/project/bar-chart-race/). \n",
    "Выбери данные, которые интересно было бы визуализировать с помощью этой библиотеки, и поделись с ним со своими одногруппниками."
   ]
  },
  {
   "cell_type": "code",
   "execution_count": 7,
   "metadata": {},
   "outputs": [],
   "source": [
    "data['Duration (in seconds)'] = data['Duration (in seconds)'].astype(int)\n",
    "min_time = data['Duration (in seconds)'].min()\n",
    "max_time = data['Duration (in seconds)'].max()\n",
    "new_df = data[['Q4', 'Duration (in seconds)']].head(150)\n",
    "dt = pd.DataFrame(index=[i for i in range(min_time, 150)], columns=[new_df['Q4'].unique()])\n",
    "a = new_df[['Q4', 'Duration (in seconds)']].iloc[:]\n",
    "a.values[1]\n",
    "for i in range(len(dt)):\n",
    "    q = new_df[['Q4', 'Duration (in seconds)']].iloc[i]\n",
    "    country, time = q.values[0], q.values[1]\n",
    "    dt.at[time, country] = time\n",
    "dt.fillna(0, inplace=True)\n",
    "bcr.bar_chart_race(df=df.head(50), filename='test.gif', period_length=1500, dpi=110)"
   ]
  },
  {
   "cell_type": "code",
   "execution_count": null,
   "metadata": {},
   "outputs": [],
   "source": []
  }
 ],
 "metadata": {
  "kernelspec": {
   "display_name": "Python 3 (ipykernel)",
   "language": "python",
   "name": "python3"
  },
  "language_info": {
   "codemirror_mode": {
    "name": "ipython",
    "version": 3
   },
   "file_extension": ".py",
   "mimetype": "text/x-python",
   "name": "python",
   "nbconvert_exporter": "python",
   "pygments_lexer": "ipython3",
   "version": "3.9.6"
  }
 },
 "nbformat": 4,
 "nbformat_minor": 4
}
