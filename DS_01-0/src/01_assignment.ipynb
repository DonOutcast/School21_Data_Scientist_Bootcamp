{
  "cells": [
    {
      "cell_type": "markdown",
      "id": "fffcbb2c-4423-4f1c-bc90-e1ac7fbaa456",
      "metadata": {
        "id": "fffcbb2c-4423-4f1c-bc90-e1ac7fbaa456"
      },
      "source": [
        "# Задания "
      ]
    },
    {
      "cell_type": "markdown",
      "id": "c2d747fe-7b74-43e0-95b3-16525e9846ac",
      "metadata": {
        "id": "c2d747fe-7b74-43e0-95b3-16525e9846ac"
      },
      "source": [
        "## Task 1"
      ]
    },
    {
      "cell_type": "markdown",
      "id": "685b3747-2ce6-434d-8969-a91baddbf85a",
      "metadata": {
        "id": "685b3747-2ce6-434d-8969-a91baddbf85a"
      },
      "source": [
        "Напиши код, который будет решать квадратное уравнение вида\n",
        "$ax^2 + bx + c = 0$. \\\n",
        "Для этого понадобится найти дискриминант. Его формула - $ D = b^2 − 4ac $"
      ]
    },
    {
      "cell_type": "markdown",
      "id": "20bf557b-21f9-46fa-b8db-76b7a96526f4",
      "metadata": {
        "id": "20bf557b-21f9-46fa-b8db-76b7a96526f4"
      },
      "source": [
        "Для начала напиши формулу нахождения корней квадратного уравнения на языке LaTeX\n",
        "\n",
        "$ x = \\frac{-b\\pm\\sqrt{b^2-4ac}}{2a}"
      ]
    },
    {
      "cell_type": "markdown",
      "id": "c78b058d-777d-4369-b86d-0c0fc013eba9",
      "metadata": {
        "id": "c78b058d-777d-4369-b86d-0c0fc013eba9"
      },
      "source": [
        "Теперь, когда ты вспомнил как находить корни, приступай к написанию функции:\n",
        "- Функция принимает на вход коэффициент a, b, c.\n",
        "- Функция должна возвращать кортеж корней уравнения. \n",
        "- Если корней у уравнения нет, то функция должна вернуть None"
      ]
    },
    {
      "cell_type": "code",
      "execution_count": 4,
      "id": "03b8b371-870b-42cc-8f53-1e8596406894",
      "metadata": {
        "colab": {
          "base_uri": "https://localhost:8080/"
        },
        "id": "03b8b371-870b-42cc-8f53-1e8596406894",
        "outputId": "3586af76-907c-44ff-eb38-5e413773357d"
      },
      "outputs": [
        {
          "output_type": "execute_result",
          "data": {
            "text/plain": [
              "(1.0, 1.0)"
            ]
          },
          "metadata": {},
          "execution_count": 4
        }
      ],
      "source": [
        "import math\n",
        "\n",
        "def quadratic_equation(a, b, c):\n",
        "    discr = b ** 2 - 4 * a * c\n",
        "    if discr > 0:\n",
        "        x1 = (-b + math.sqrt(discr)) / (2 * a)\n",
        "        x2 = (-b - math.sqrt(discr)) / (2 * a)\n",
        "        return x1, x2\n",
        "    elif discr == 0:\n",
        "        x = -b / (2 * a)\n",
        "        return x,\n",
        "    else:\n",
        "        return None\n",
        "print(quadratic_equation(-4, 28, -49))\n",
        "print(quadratic_equation(1, -1, 0))\n",
        "print(quadratic_equation(3, -4, 94))"
      ]
    },
    {
      "cell_type": "markdown",
      "id": "a8541146-f127-4482-b067-279d50975dac",
      "metadata": {
        "id": "a8541146-f127-4482-b067-279d50975dac"
      },
      "source": [
        "## Task 2"
      ]
    },
    {
      "cell_type": "markdown",
      "id": "816c48be-0963-4bd6-bd86-c8172eb8968e",
      "metadata": {
        "id": "816c48be-0963-4bd6-bd86-c8172eb8968e"
      },
      "source": [
        "Функция, которая на вход принимает cписок случайных чисел, а возвращает уже отсортированный методом Пузырька по возрастанию."
      ]
    },
    {
      "cell_type": "code",
      "execution_count": 5,
      "id": "3fbaf6b3-876f-4ecf-9be6-d26181ee3a48",
      "metadata": {
        "colab": {
          "base_uri": "https://localhost:8080/"
        },
        "id": "3fbaf6b3-876f-4ecf-9be6-d26181ee3a48",
        "outputId": "80b3ae81-45d0-4b86-94fd-74248b769f49"
      },
      "outputs": [
        {
          "output_type": "stream",
          "name": "stdout",
          "text": [
            "[1, 2, 3, 3, 6]\n"
          ]
        }
      ],
      "source": [
        "def bubble_sort(lst):\n",
        "    for i in range(len(lst)):\n",
        "        for j in range(i, len(lst)):\n",
        "            if lst[i] > lst[j]:\n",
        "                lst[i], lst[j] = lst[j], lst[i]\n",
        "    return lst\n",
        "\n",
        "lst = [2,3,6,1,3]\n",
        "print(bubble_sort(lst))"
      ]
    },
    {
      "cell_type": "markdown",
      "id": "0026496c-03a8-4fcc-907b-dfb8f3fc0efb",
      "metadata": {
        "id": "0026496c-03a8-4fcc-907b-dfb8f3fc0efb"
      },
      "source": [
        "## Task 3"
      ]
    },
    {
      "cell_type": "markdown",
      "id": "688251be-39a3-49ed-9993-a5f9b39f430d",
      "metadata": {
        "id": "688251be-39a3-49ed-9993-a5f9b39f430d"
      },
      "source": [
        "Самое часто встречающееся слово в романе \"Война и Мир\" без учета:\n",
        "   * Пунктуации\n",
        "   * Слов **короче четырех** символов \n",
        "   * 'Стоп-слов', которые приведены в файле в stop_words_russian.txt"
      ]
    },
    {
      "cell_type": "code",
      "execution_count": null,
      "id": "94501d71-ee88-4f78-808d-20e79a5f3707",
      "metadata": {
        "id": "94501d71-ee88-4f78-808d-20e79a5f3707"
      },
      "outputs": [],
      "source": [
        "import string\n",
        "temp = \"\"\n",
        "r = string.punctuation + \"„“–\"\n",
        "temp_2 = []\n",
        "temp_3 = []\n",
        "with open(\"../datasets/war_and_peace.txt\", \"r\") as file:\n",
        "    for i in file.read():\n",
        "        if i not in r:\n",
        "            temp += i\n",
        "temp = temp.split()\n",
        "with open(\"../datasets/stop_words_russian.txt\", \"r\") as stop_file:\n",
        "    for i in stop_file.readlines():\n",
        "        temp_2.append(i.split()[0])\n",
        "\n",
        "for word in temp:\n",
        "    if word not in temp_2 and len(word) > 4:\n",
        "        temp_3.append(word)\n",
        "count = 0\n",
        "long_word = \"\"\n",
        "\n",
        "for word in temp_3:\n",
        "    if count < temp_3.count(word):\n",
        "        long_word = word\n",
        "        count = temp_3.count(word)\n",
        "\n",
        "print(long_word)"
      ]
    },
    {
      "cell_type": "markdown",
      "id": "d4b6f922-7a22-4b38-8529-c92994edd38c",
      "metadata": {
        "id": "d4b6f922-7a22-4b38-8529-c92994edd38c"
      },
      "source": [
        "## Task 4"
      ]
    },
    {
      "cell_type": "markdown",
      "id": "c2cef602-ab87-47f8-ab2c-e323442b62f7",
      "metadata": {
        "id": "c2cef602-ab87-47f8-ab2c-e323442b62f7"
      },
      "source": [
        "Функция для расчета числа Фибоначчи с использованием рекурсивной функции."
      ]
    },
    {
      "cell_type": "code",
      "execution_count": null,
      "id": "ec1c1860-774d-4583-a44b-bdc30492eead",
      "metadata": {
        "id": "ec1c1860-774d-4583-a44b-bdc30492eead"
      },
      "outputs": [],
      "source": [
        "def fibonacci(n):\n",
        "    if (n <= 1):\n",
        "        return n\n",
        "    else:\n",
        "        return (fibonacci(n - 1) + fibonacci(n - 2))\n",
        "\n",
        "\n",
        "print(fibonacci(27))\n"
      ]
    },
    {
      "cell_type": "markdown",
      "id": "1acc3069-4b1a-4a5c-98e4-055731203d2d",
      "metadata": {
        "id": "1acc3069-4b1a-4a5c-98e4-055731203d2d"
      },
      "source": [
        "## Task 5"
      ]
    },
    {
      "cell_type": "markdown",
      "id": "944e804e-fb40-4ea2-b931-38b595d3c262",
      "metadata": {
        "id": "944e804e-fb40-4ea2-b931-38b595d3c262"
      },
      "source": [
        "Функция перевода валюты в рубли."
      ]
    },
    {
      "cell_type": "code",
      "execution_count": null,
      "id": "570cfb71-5cf0-41fc-aae7-cf2b2812eaca",
      "metadata": {
        "id": "570cfb71-5cf0-41fc-aae7-cf2b2812eaca"
      },
      "outputs": [],
      "source": [
        "import requests\n",
        "\n",
        "\n",
        "def convert2RU(currency, value):\n",
        "    response = requests.get(\"https://www.cbr-xml-daily.ru/daily_json.js\").json()\n",
        "    correct = response.get(\"Valute\").get(currency).get(\"Value\")\n",
        "    result = int(correct) * value\n",
        "    return result\n",
        "\n",
        "\n",
        "print(convert2RU(\"EUR\", 2))\n",
        "print(convert2RU(\"USD\", 2))\n",
        "print(convert2RU(\"GBR\", 2))"
      ]
    },
    {
      "cell_type": "markdown",
      "id": "fe1396fa-7109-48ad-a255-4d4f622c18a4",
      "metadata": {
        "id": "fe1396fa-7109-48ad-a255-4d4f622c18a4"
      },
      "source": [
        "## *Task 6. Дополнительное задание"
      ]
    },
    {
      "cell_type": "markdown",
      "id": "71315701-39bd-4759-afd9-7bf20486b4f7",
      "metadata": {
        "id": "71315701-39bd-4759-afd9-7bf20486b4f7"
      },
      "source": [
        "Написание проверки на пaлиндром."
      ]
    },
    {
      "cell_type": "markdown",
      "id": "715fd45b-eb76-4eb5-bbd8-a257035fe892",
      "metadata": {
        "id": "715fd45b-eb76-4eb5-bbd8-a257035fe892"
      },
      "source": [
        "1. На вход функции _isPalindrome_ подается **число** (int). \\\n",
        "Функция возвращает **True**, если число является палидромом и **False** в противном случае. "
      ]
    },
    {
      "cell_type": "code",
      "execution_count": null,
      "id": "9f48d9c7-c413-47fb-b692-ce5ad8ed9ec1",
      "metadata": {
        "id": "9f48d9c7-c413-47fb-b692-ce5ad8ed9ec1"
      },
      "outputs": [],
      "source": [
        "def isPalindrome(x: int) -> bool:\n",
        "    if x < 0:\n",
        "        return False\n",
        "    str_x = str(x)\n",
        "    for i in range(int(x / 2 + 1)):\n",
        "        if str_x[i] != str_x[len(str_x) - 1 - i]:\n",
        "            return False\n",
        "        else:\n",
        "            return True\n",
        "\n",
        "\n",
        "print(isPalindrome(1221))"
      ]
    },
    {
      "cell_type": "markdown",
      "id": "e86f6f7c-c3b0-4b92-bb3d-651dcc7d4706",
      "metadata": {
        "id": "e86f6f7c-c3b0-4b92-bb3d-651dcc7d4706"
      },
      "source": [
        "2. Реализация функции без использования перевода числа в строку."
      ]
    },
    {
      "cell_type": "code",
      "execution_count": 7,
      "id": "35cf92fa-04c6-489b-9523-99d78dce4ba1",
      "metadata": {
        "colab": {
          "base_uri": "https://localhost:8080/"
        },
        "id": "35cf92fa-04c6-489b-9523-99d78dce4ba1",
        "outputId": "47f0b433-af2b-4cf8-8913-7093a0cad177"
      },
      "outputs": [
        {
          "output_type": "stream",
          "name": "stdout",
          "text": [
            "False\n"
          ]
        }
      ],
      "source": [
        "def isPalindrome_v2(x: int) -> bool:\n",
        "    if x < 0:\n",
        "        return False\n",
        "    count = 1\n",
        "    temp = x\n",
        "    while temp != 0:\n",
        "        temp //= 10\n",
        "        count *= 10\n",
        "    count /= 10\n",
        "    temp_1 = x\n",
        "    temp_2 = x\n",
        "    while temp_1 != 0 or temp_2 != 0:\n",
        "        remaider = temp_1 % 10\n",
        "        dev = temp_2 // count\n",
        "        temp_1 //= 10\n",
        "        temp_2 %= count\n",
        "        count /= 10\n",
        "        if remaider != dev:\n",
        "            return False\n",
        "    else:\n",
        "        return True\n",
        "\n",
        "\n",
        "print(isPalindrome_v2(-1221))"
      ]
    }
  ],
  "metadata": {
    "kernelspec": {
      "display_name": "Python 3 (ipykernel)",
      "language": "python",
      "name": "python3"
    },
    "language_info": {
      "codemirror_mode": {
        "name": "ipython",
        "version": 3
      },
      "file_extension": ".py",
      "mimetype": "text/x-python",
      "name": "python",
      "nbconvert_exporter": "python",
      "pygments_lexer": "ipython3",
      "version": "3.9.10"
    },
    "colab": {
      "provenance": []
    }
  },
  "nbformat": 4,
  "nbformat_minor": 5
}