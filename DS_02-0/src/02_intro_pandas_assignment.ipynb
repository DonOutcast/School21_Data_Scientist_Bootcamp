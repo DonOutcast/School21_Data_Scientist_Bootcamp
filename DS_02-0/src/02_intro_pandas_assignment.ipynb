{
  "cells": [
    {
      "cell_type": "markdown",
      "metadata": {
        "id": "kS-MrQqYHtVy"
      },
      "source": [
        "# Задание"
      ]
    },
    {
      "cell_type": "code",
      "execution_count": null,
      "metadata": {
        "id": "lDYEB3jcHtV0",
        "colab": {
          "base_uri": "https://localhost:8080/"
        },
        "outputId": "c3e365db-c6f7-49dd-a9cd-a9eed563a47d"
      },
      "outputs": [
        {
          "output_type": "stream",
          "name": "stderr",
          "text": [
            "/usr/local/lib/python3.8/dist-packages/IPython/core/interactiveshell.py:3326: DtypeWarning: Columns (0,208,225,255,257,260,270,271,277) have mixed types.Specify dtype option on import or set low_memory=False.\n",
            "  exec(code_obj, self.user_global_ns, self.user_ns)\n"
          ]
        }
      ],
      "source": [
        "import pandas as pd\n",
        "dataset = pd.read_csv(\"/content/kaggle_survey_2022_responses.csv\")"
      ]
    },
    {
      "cell_type": "markdown",
      "source": [],
      "metadata": {
        "id": "--TJ9UTOhZX_"
      }
    },
    {
      "cell_type": "markdown",
      "metadata": {
        "id": "i-cYmFu1HtV1"
      },
      "source": [
        "## Задание 1"
      ]
    },
    {
      "cell_type": "markdown",
      "metadata": {
        "id": "9TwCarTMHtV2"
      },
      "source": [
        "Узнай самый часто встречаемый возраст респондентов"
      ]
    },
    {
      "cell_type": "code",
      "execution_count": null,
      "metadata": {
        "id": "ZrWPAKsmHtV2",
        "colab": {
          "base_uri": "https://localhost:8080/",
          "height": 550
        },
        "outputId": "16d5f05d-1713-4d8f-a618-3747de762047"
      },
      "outputs": [
        {
          "output_type": "error",
          "ename": "KeyError",
          "evalue": "ignored",
          "traceback": [
            "\u001b[0;31m---------------------------------------------------------------------------\u001b[0m",
            "\u001b[0;31mKeyError\u001b[0m                                  Traceback (most recent call last)",
            "\u001b[0;32m/usr/local/lib/python3.8/dist-packages/pandas/core/indexes/base.py\u001b[0m in \u001b[0;36mget_loc\u001b[0;34m(self, key, method, tolerance)\u001b[0m\n\u001b[1;32m   3360\u001b[0m             \u001b[0;32mtry\u001b[0m\u001b[0;34m:\u001b[0m\u001b[0;34m\u001b[0m\u001b[0;34m\u001b[0m\u001b[0m\n\u001b[0;32m-> 3361\u001b[0;31m                 \u001b[0;32mreturn\u001b[0m \u001b[0mself\u001b[0m\u001b[0;34m.\u001b[0m\u001b[0m_engine\u001b[0m\u001b[0;34m.\u001b[0m\u001b[0mget_loc\u001b[0m\u001b[0;34m(\u001b[0m\u001b[0mcasted_key\u001b[0m\u001b[0;34m)\u001b[0m\u001b[0;34m\u001b[0m\u001b[0;34m\u001b[0m\u001b[0m\n\u001b[0m\u001b[1;32m   3362\u001b[0m             \u001b[0;32mexcept\u001b[0m \u001b[0mKeyError\u001b[0m \u001b[0;32mas\u001b[0m \u001b[0merr\u001b[0m\u001b[0;34m:\u001b[0m\u001b[0;34m\u001b[0m\u001b[0;34m\u001b[0m\u001b[0m\n",
            "\u001b[0;32m/usr/local/lib/python3.8/dist-packages/pandas/_libs/index.pyx\u001b[0m in \u001b[0;36mpandas._libs.index.IndexEngine.get_loc\u001b[0;34m()\u001b[0m\n",
            "\u001b[0;32m/usr/local/lib/python3.8/dist-packages/pandas/_libs/index.pyx\u001b[0m in \u001b[0;36mpandas._libs.index.IndexEngine.get_loc\u001b[0;34m()\u001b[0m\n",
            "\u001b[0;32mpandas/_libs/hashtable_class_helper.pxi\u001b[0m in \u001b[0;36mpandas._libs.hashtable.PyObjectHashTable.get_item\u001b[0;34m()\u001b[0m\n",
            "\u001b[0;32mpandas/_libs/hashtable_class_helper.pxi\u001b[0m in \u001b[0;36mpandas._libs.hashtable.PyObjectHashTable.get_item\u001b[0;34m()\u001b[0m\n",
            "\u001b[0;31mKeyError\u001b[0m: 'Q2'",
            "\nThe above exception was the direct cause of the following exception:\n",
            "\u001b[0;31mKeyError\u001b[0m                                  Traceback (most recent call last)",
            "\u001b[0;32m<ipython-input-16-1187e27f69a2>\u001b[0m in \u001b[0;36m<module>\u001b[0;34m\u001b[0m\n\u001b[0;32m----> 1\u001b[0;31m \u001b[0mprint\u001b[0m\u001b[0;34m(\u001b[0m\u001b[0mdataset\u001b[0m\u001b[0;34m.\u001b[0m\u001b[0mdescribe\u001b[0m\u001b[0;34m(\u001b[0m\u001b[0;34m)\u001b[0m\u001b[0;34m[\u001b[0m\u001b[0;34m\"Q2\"\u001b[0m\u001b[0;34m]\u001b[0m\u001b[0;34m.\u001b[0m\u001b[0miloc\u001b[0m\u001b[0;34m[\u001b[0m\u001b[0;36m2\u001b[0m\u001b[0;34m]\u001b[0m\u001b[0;34m)\u001b[0m\u001b[0;34m\u001b[0m\u001b[0;34m\u001b[0m\u001b[0m\n\u001b[0m",
            "\u001b[0;32m/usr/local/lib/python3.8/dist-packages/pandas/core/frame.py\u001b[0m in \u001b[0;36m__getitem__\u001b[0;34m(self, key)\u001b[0m\n\u001b[1;32m   3456\u001b[0m             \u001b[0;32mif\u001b[0m \u001b[0mself\u001b[0m\u001b[0;34m.\u001b[0m\u001b[0mcolumns\u001b[0m\u001b[0;34m.\u001b[0m\u001b[0mnlevels\u001b[0m \u001b[0;34m>\u001b[0m \u001b[0;36m1\u001b[0m\u001b[0;34m:\u001b[0m\u001b[0;34m\u001b[0m\u001b[0;34m\u001b[0m\u001b[0m\n\u001b[1;32m   3457\u001b[0m                 \u001b[0;32mreturn\u001b[0m \u001b[0mself\u001b[0m\u001b[0;34m.\u001b[0m\u001b[0m_getitem_multilevel\u001b[0m\u001b[0;34m(\u001b[0m\u001b[0mkey\u001b[0m\u001b[0;34m)\u001b[0m\u001b[0;34m\u001b[0m\u001b[0;34m\u001b[0m\u001b[0m\n\u001b[0;32m-> 3458\u001b[0;31m             \u001b[0mindexer\u001b[0m \u001b[0;34m=\u001b[0m \u001b[0mself\u001b[0m\u001b[0;34m.\u001b[0m\u001b[0mcolumns\u001b[0m\u001b[0;34m.\u001b[0m\u001b[0mget_loc\u001b[0m\u001b[0;34m(\u001b[0m\u001b[0mkey\u001b[0m\u001b[0;34m)\u001b[0m\u001b[0;34m\u001b[0m\u001b[0;34m\u001b[0m\u001b[0m\n\u001b[0m\u001b[1;32m   3459\u001b[0m             \u001b[0;32mif\u001b[0m \u001b[0mis_integer\u001b[0m\u001b[0;34m(\u001b[0m\u001b[0mindexer\u001b[0m\u001b[0;34m)\u001b[0m\u001b[0;34m:\u001b[0m\u001b[0;34m\u001b[0m\u001b[0;34m\u001b[0m\u001b[0m\n\u001b[1;32m   3460\u001b[0m                 \u001b[0mindexer\u001b[0m \u001b[0;34m=\u001b[0m \u001b[0;34m[\u001b[0m\u001b[0mindexer\u001b[0m\u001b[0;34m]\u001b[0m\u001b[0;34m\u001b[0m\u001b[0;34m\u001b[0m\u001b[0m\n",
            "\u001b[0;32m/usr/local/lib/python3.8/dist-packages/pandas/core/indexes/base.py\u001b[0m in \u001b[0;36mget_loc\u001b[0;34m(self, key, method, tolerance)\u001b[0m\n\u001b[1;32m   3361\u001b[0m                 \u001b[0;32mreturn\u001b[0m \u001b[0mself\u001b[0m\u001b[0;34m.\u001b[0m\u001b[0m_engine\u001b[0m\u001b[0;34m.\u001b[0m\u001b[0mget_loc\u001b[0m\u001b[0;34m(\u001b[0m\u001b[0mcasted_key\u001b[0m\u001b[0;34m)\u001b[0m\u001b[0;34m\u001b[0m\u001b[0;34m\u001b[0m\u001b[0m\n\u001b[1;32m   3362\u001b[0m             \u001b[0;32mexcept\u001b[0m \u001b[0mKeyError\u001b[0m \u001b[0;32mas\u001b[0m \u001b[0merr\u001b[0m\u001b[0;34m:\u001b[0m\u001b[0;34m\u001b[0m\u001b[0;34m\u001b[0m\u001b[0m\n\u001b[0;32m-> 3363\u001b[0;31m                 \u001b[0;32mraise\u001b[0m \u001b[0mKeyError\u001b[0m\u001b[0;34m(\u001b[0m\u001b[0mkey\u001b[0m\u001b[0;34m)\u001b[0m \u001b[0;32mfrom\u001b[0m \u001b[0merr\u001b[0m\u001b[0;34m\u001b[0m\u001b[0;34m\u001b[0m\u001b[0m\n\u001b[0m\u001b[1;32m   3364\u001b[0m \u001b[0;34m\u001b[0m\u001b[0m\n\u001b[1;32m   3365\u001b[0m         \u001b[0;32mif\u001b[0m \u001b[0mis_scalar\u001b[0m\u001b[0;34m(\u001b[0m\u001b[0mkey\u001b[0m\u001b[0;34m)\u001b[0m \u001b[0;32mand\u001b[0m \u001b[0misna\u001b[0m\u001b[0;34m(\u001b[0m\u001b[0mkey\u001b[0m\u001b[0;34m)\u001b[0m \u001b[0;32mand\u001b[0m \u001b[0;32mnot\u001b[0m \u001b[0mself\u001b[0m\u001b[0;34m.\u001b[0m\u001b[0mhasnans\u001b[0m\u001b[0;34m:\u001b[0m\u001b[0;34m\u001b[0m\u001b[0;34m\u001b[0m\u001b[0m\n",
            "\u001b[0;31mKeyError\u001b[0m: 'Q2'"
          ]
        }
      ],
      "source": [
        "print(dataset.describe()[\"Q2\"].iloc[2])"
      ]
    },
    {
      "cell_type": "markdown",
      "metadata": {
        "id": "A-zPfVVOHtV2"
      },
      "source": [
        "## Задание 2"
      ]
    },
    {
      "cell_type": "markdown",
      "metadata": {
        "id": "E0UUsZ6sHtV2"
      },
      "source": [
        "Посчитай долю женщин среди русских участником опроса, которые уже не студенты. Результат округли до 2х цифры после запятой"
      ]
    },
    {
      "cell_type": "code",
      "execution_count": null,
      "metadata": {
        "id": "-LFYqkTyHtV3"
      },
      "outputs": [],
      "source": [
        "print(\"%.2f\" % (\n",
        "        dataset[\n",
        "            (\n",
        "                dataset[\"Q4\"].str.contains(\"Russia\")\n",
        "            ) &\n",
        "            (\n",
        "                dataset[\"Q3\"].str.contains(\"Woman\")\n",
        "            ) &\n",
        "            (\n",
        "                dataset[\"Q5\"].str.contains(\"No\")\n",
        "            )\n",
        "            ].describe()[\"Q2\"].iloc[0] /\n",
        "\n",
        "        dataset[\n",
        "            (\n",
        "                dataset[\"Q4\"].str.contains(\"Russia\")\n",
        "            ) &\n",
        "            (\n",
        "                dataset[\"Q5\"].str.contains(\"No\")\n",
        "            )\n",
        "\n",
        "            ].describe()[\"Q2\"].iloc[0]\n",
        ")\n",
        "      )"
      ]
    },
    {
      "cell_type": "markdown",
      "metadata": {
        "id": "Or9coUcOHtV3"
      },
      "source": [
        "## Задание 3"
      ]
    },
    {
      "cell_type": "markdown",
      "metadata": {
        "id": "gjAZoqXUHtV4"
      },
      "source": [
        "Найди среднее время заполнения опроса в **минутах**. Результат округли до 2х знаков после запятой"
      ]
    },
    {
      "cell_type": "code",
      "execution_count": null,
      "metadata": {
        "id": "OGn6jRSjHtV4"
      },
      "outputs": [],
      "source": [
        "print(\"%.2f\" % (dataset['Duration (in seconds)'][1:].astype(int).mean() / 60))"
      ]
    },
    {
      "cell_type": "markdown",
      "metadata": {
        "id": "kitBhJQyHtV4"
      },
      "source": [
        "## Задание 4"
      ]
    },
    {
      "cell_type": "markdown",
      "metadata": {
        "id": "jkfmCJkRHtV4"
      },
      "source": [
        "Выведи топ-3 образовательных курса, которые указали респонденты. P.S Это вопрос Q6"
      ]
    },
    {
      "cell_type": "code",
      "execution_count": null,
      "metadata": {
        "id": "v-K3PB1xHtV5",
        "colab": {
          "base_uri": "https://localhost:8080/",
          "height": 457
        },
        "outputId": "0943b4c8-3418-4f99-a6d0-ffe38a9abaf8"
      },
      "outputs": [
        {
          "output_type": "execute_result",
          "data": {
            "text/plain": [
              "                                                Q6_1  \\\n",
              "0  On which platforms have you begun or completed...   \n",
              "\n",
              "                                                Q6_2  \\\n",
              "0  On which platforms have you begun or completed...   \n",
              "\n",
              "                                                Q6_3  \\\n",
              "0  On which platforms have you begun or completed...   \n",
              "\n",
              "                                                Q6_4  \\\n",
              "0  On which platforms have you begun or completed...   \n",
              "\n",
              "                                                Q6_5  \\\n",
              "0  On which platforms have you begun or completed...   \n",
              "\n",
              "                                                Q6_6  \\\n",
              "0  On which platforms have you begun or completed...   \n",
              "\n",
              "                                                Q6_7  \\\n",
              "0  On which platforms have you begun or completed...   \n",
              "\n",
              "                                                Q6_8  \\\n",
              "0  On which platforms have you begun or completed...   \n",
              "\n",
              "                                                Q6_9  \\\n",
              "0  On which platforms have you begun or completed...   \n",
              "\n",
              "                                               Q6_10  \\\n",
              "0  On which platforms have you begun or completed...   \n",
              "\n",
              "                                               Q6_11  \\\n",
              "0  On which platforms have you begun or completed...   \n",
              "\n",
              "                                               Q6_12  \n",
              "0  On which platforms have you begun or completed...  "
            ],
            "text/html": [
              "\n",
              "  <div id=\"df-af475603-cb1c-4be7-9018-f7d70d09476c\">\n",
              "    <div class=\"colab-df-container\">\n",
              "      <div>\n",
              "<style scoped>\n",
              "    .dataframe tbody tr th:only-of-type {\n",
              "        vertical-align: middle;\n",
              "    }\n",
              "\n",
              "    .dataframe tbody tr th {\n",
              "        vertical-align: top;\n",
              "    }\n",
              "\n",
              "    .dataframe thead th {\n",
              "        text-align: right;\n",
              "    }\n",
              "</style>\n",
              "<table border=\"1\" class=\"dataframe\">\n",
              "  <thead>\n",
              "    <tr style=\"text-align: right;\">\n",
              "      <th></th>\n",
              "      <th>Q6_1</th>\n",
              "      <th>Q6_2</th>\n",
              "      <th>Q6_3</th>\n",
              "      <th>Q6_4</th>\n",
              "      <th>Q6_5</th>\n",
              "      <th>Q6_6</th>\n",
              "      <th>Q6_7</th>\n",
              "      <th>Q6_8</th>\n",
              "      <th>Q6_9</th>\n",
              "      <th>Q6_10</th>\n",
              "      <th>Q6_11</th>\n",
              "      <th>Q6_12</th>\n",
              "    </tr>\n",
              "  </thead>\n",
              "  <tbody>\n",
              "    <tr>\n",
              "      <th>0</th>\n",
              "      <td>On which platforms have you begun or completed...</td>\n",
              "      <td>On which platforms have you begun or completed...</td>\n",
              "      <td>On which platforms have you begun or completed...</td>\n",
              "      <td>On which platforms have you begun or completed...</td>\n",
              "      <td>On which platforms have you begun or completed...</td>\n",
              "      <td>On which platforms have you begun or completed...</td>\n",
              "      <td>On which platforms have you begun or completed...</td>\n",
              "      <td>On which platforms have you begun or completed...</td>\n",
              "      <td>On which platforms have you begun or completed...</td>\n",
              "      <td>On which platforms have you begun or completed...</td>\n",
              "      <td>On which platforms have you begun or completed...</td>\n",
              "      <td>On which platforms have you begun or completed...</td>\n",
              "    </tr>\n",
              "  </tbody>\n",
              "</table>\n",
              "</div>\n",
              "      <button class=\"colab-df-convert\" onclick=\"convertToInteractive('df-af475603-cb1c-4be7-9018-f7d70d09476c')\"\n",
              "              title=\"Convert this dataframe to an interactive table.\"\n",
              "              style=\"display:none;\">\n",
              "        \n",
              "  <svg xmlns=\"http://www.w3.org/2000/svg\" height=\"24px\"viewBox=\"0 0 24 24\"\n",
              "       width=\"24px\">\n",
              "    <path d=\"M0 0h24v24H0V0z\" fill=\"none\"/>\n",
              "    <path d=\"M18.56 5.44l.94 2.06.94-2.06 2.06-.94-2.06-.94-.94-2.06-.94 2.06-2.06.94zm-11 1L8.5 8.5l.94-2.06 2.06-.94-2.06-.94L8.5 2.5l-.94 2.06-2.06.94zm10 10l.94 2.06.94-2.06 2.06-.94-2.06-.94-.94-2.06-.94 2.06-2.06.94z\"/><path d=\"M17.41 7.96l-1.37-1.37c-.4-.4-.92-.59-1.43-.59-.52 0-1.04.2-1.43.59L10.3 9.45l-7.72 7.72c-.78.78-.78 2.05 0 2.83L4 21.41c.39.39.9.59 1.41.59.51 0 1.02-.2 1.41-.59l7.78-7.78 2.81-2.81c.8-.78.8-2.07 0-2.86zM5.41 20L4 18.59l7.72-7.72 1.47 1.35L5.41 20z\"/>\n",
              "  </svg>\n",
              "      </button>\n",
              "      \n",
              "  <style>\n",
              "    .colab-df-container {\n",
              "      display:flex;\n",
              "      flex-wrap:wrap;\n",
              "      gap: 12px;\n",
              "    }\n",
              "\n",
              "    .colab-df-convert {\n",
              "      background-color: #E8F0FE;\n",
              "      border: none;\n",
              "      border-radius: 50%;\n",
              "      cursor: pointer;\n",
              "      display: none;\n",
              "      fill: #1967D2;\n",
              "      height: 32px;\n",
              "      padding: 0 0 0 0;\n",
              "      width: 32px;\n",
              "    }\n",
              "\n",
              "    .colab-df-convert:hover {\n",
              "      background-color: #E2EBFA;\n",
              "      box-shadow: 0px 1px 2px rgba(60, 64, 67, 0.3), 0px 1px 3px 1px rgba(60, 64, 67, 0.15);\n",
              "      fill: #174EA6;\n",
              "    }\n",
              "\n",
              "    [theme=dark] .colab-df-convert {\n",
              "      background-color: #3B4455;\n",
              "      fill: #D2E3FC;\n",
              "    }\n",
              "\n",
              "    [theme=dark] .colab-df-convert:hover {\n",
              "      background-color: #434B5C;\n",
              "      box-shadow: 0px 1px 3px 1px rgba(0, 0, 0, 0.15);\n",
              "      filter: drop-shadow(0px 1px 2px rgba(0, 0, 0, 0.3));\n",
              "      fill: #FFFFFF;\n",
              "    }\n",
              "  </style>\n",
              "\n",
              "      <script>\n",
              "        const buttonEl =\n",
              "          document.querySelector('#df-af475603-cb1c-4be7-9018-f7d70d09476c button.colab-df-convert');\n",
              "        buttonEl.style.display =\n",
              "          google.colab.kernel.accessAllowed ? 'block' : 'none';\n",
              "\n",
              "        async function convertToInteractive(key) {\n",
              "          const element = document.querySelector('#df-af475603-cb1c-4be7-9018-f7d70d09476c');\n",
              "          const dataTable =\n",
              "            await google.colab.kernel.invokeFunction('convertToInteractive',\n",
              "                                                     [key], {});\n",
              "          if (!dataTable) return;\n",
              "\n",
              "          const docLinkHtml = 'Like what you see? Visit the ' +\n",
              "            '<a target=\"_blank\" href=https://colab.research.google.com/notebooks/data_table.ipynb>data table notebook</a>'\n",
              "            + ' to learn more about interactive tables.';\n",
              "          element.innerHTML = '';\n",
              "          dataTable['output_type'] = 'display_data';\n",
              "          await google.colab.output.renderOutput(dataTable, element);\n",
              "          const docLink = document.createElement('div');\n",
              "          docLink.innerHTML = docLinkHtml;\n",
              "          element.appendChild(docLink);\n",
              "        }\n",
              "      </script>\n",
              "    </div>\n",
              "  </div>\n",
              "  "
            ]
          },
          "metadata": {},
          "execution_count": 15
        }
      ],
      "source": [
        "print(\n",
        "    [dataset[[column for column in dataset.columns if column.startswith(\"Q6\")]].melt()[\"value\"].value_counts().index[i]\n",
        "     for i in range(3)]\n",
        ")"
      ]
    },
    {
      "cell_type": "markdown",
      "metadata": {
        "id": "R6BfLwTvHtV5"
      },
      "source": [
        "## Задание 5"
      ]
    },
    {
      "cell_type": "markdown",
      "metadata": {
        "id": "kQ8ptOo4HtV5"
      },
      "source": [
        "Узнай топ-5 языков программирования, которые регулярно используют Data Scientists в своей работе"
      ]
    },
    {
      "cell_type": "code",
      "execution_count": null,
      "metadata": {
        "id": "rSVs5ed7HtV5"
      },
      "outputs": [],
      "source": [
        "print([i for _, i in\n",
        "       dataset[(dataset[\"Q23\"] == \"Data Scientist\")].loc[:,\n",
        "       [col for col in dataset.columns if col.startswith(\"Q12\")]].melt().dropna().value_counts().head(\n",
        "           5).index.tolist()]"
      ]
    },
    {
      "cell_type": "markdown",
      "metadata": {
        "id": "F3tya6w7HtV5"
      },
      "source": [
        "## Задание 6"
      ]
    },
    {
      "cell_type": "markdown",
      "metadata": {
        "id": "Voiyo49BHtV6"
      },
      "source": [
        "Узнай средний доход 'Data Scientist' и 'Machine Learning/ MLops Engineer' \\\n",
        "Т.к в колонке Q29 у на промежуток, то возьмите среднее значение из промежкутка. Например '15,000-19,999' - 17500, '125,000-149,999' - 137500. >$1,000,000 - оставляем 1000000"
      ]
    },
    {
      "cell_type": "code",
      "execution_count": null,
      "metadata": {
        "id": "aU_IxiCFHtV6"
      },
      "outputs": [],
      "source": [
        "import re\n",
        "import math\n",
        "def get_salary(name_position):\n",
        "    temp = [\n",
        "        element for element in\n",
        "        [\n",
        "            str_number.split(\"-\") for str_number in\n",
        "            dataset[(dataset[\"Q23\"] == name_position)].loc[:, \"Q29\"].dropna().values\n",
        "        ]\n",
        "    ]\n",
        "    result = []\n",
        "    for i in temp:\n",
        "        m_list = []\n",
        "        for j in i:\n",
        "            j = j.replace(\",\", \".\")\n",
        "            j = re.sub('[^\\d\\,]', \"\", j)\n",
        "            m_list.append(float(j))\n",
        "        result.append(sum(m_list) / len(m_list))\n",
        "\n",
        "    return sum(result) / len(result)\n",
        "\n",
        "\n",
        "print(math.ceil(get_salary(\"Data Scientist\")))\n",
        "print(math.ceil(get_salary(\"Machine Learning/ MLops Engineer\")))"
      ]
    },
    {
      "cell_type": "markdown",
      "metadata": {
        "id": "8F65qY9pHtV6"
      },
      "source": [
        "## Задание 7 - Дополнительное задание"
      ]
    },
    {
      "cell_type": "markdown",
      "metadata": {
        "id": "0wJtiQnVHtV6"
      },
      "source": [
        "Найдите какой-нибудь интересный инсайт из этих данных. Пишите свои интересные инсайты в чат проекта с хэштегом.\n",
        "#инсайт\n",
        "\n",
        "Автор самого интересного инсайта получит p2p баллы. Поверь, они тебе понадобятся"
      ]
    },
    {
      "cell_type": "code",
      "execution_count": null,
      "metadata": {
        "id": "oLzPzF5wHtV6"
      },
      "outputs": [],
      "source": [
        "Data Scientis its number one"
      ]
    }
  ],
  "metadata": {
    "kernelspec": {
      "display_name": "Python 3 (ipykernel)",
      "language": "python",
      "name": "python3"
    },
    "language_info": {
      "codemirror_mode": {
        "name": "ipython",
        "version": 3
      },
      "file_extension": ".py",
      "mimetype": "text/x-python",
      "name": "python",
      "nbconvert_exporter": "python",
      "pygments_lexer": "ipython3",
      "version": "3.9.6"
    },
    "colab": {
      "provenance": []
    }
  },
  "nbformat": 4,
  "nbformat_minor": 0
}